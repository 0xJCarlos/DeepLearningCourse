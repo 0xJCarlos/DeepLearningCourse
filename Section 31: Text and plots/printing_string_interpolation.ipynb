{
 "cells": [
  {
   "cell_type": "code",
   "execution_count": 12,
   "metadata": {},
   "outputs": [
    {
     "name": "stdout",
     "output_type": "stream",
     "text": [
      "I would like to have 12.4943543 cellar doors.\n"
     ]
    }
   ],
   "source": [
    "num = 12.4943543\n",
    "sng = 'cellar doors' \n",
    "\n",
    "print('I would like to have ' + str(num) + ' ' + sng + '.')"
   ]
  },
  {
   "cell_type": "code",
   "execution_count": 13,
   "metadata": {},
   "outputs": [
    {
     "name": "stdout",
     "output_type": "stream",
     "text": [
      "I would like to have 12.4944 cellar doors.\n"
     ]
    }
   ],
   "source": [
    "# print('I would like to have %g %s.' %(num,sng))\n",
    "# %g is for numbers, %s is for strings\n",
    "\n",
    "print('I would like to have %.4f %s.' %(num,sng))\n",
    "# %f is formatting numbers, %.3f = 3 digits or decimales"
   ]
  },
  {
   "cell_type": "code",
   "execution_count": 14,
   "metadata": {},
   "outputs": [
    {
     "name": "stdout",
     "output_type": "stream",
     "text": [
      "I would like to have 12.4943543 cellar doors.\n"
     ]
    }
   ],
   "source": [
    "#f-string\n",
    "\n",
    "print(f'I would like to have {num} {sng}.')"
   ]
  },
  {
   "cell_type": "code",
   "execution_count": 15,
   "metadata": {},
   "outputs": [
    {
     "name": "stdout",
     "output_type": "stream",
     "text": [
      "I would like to have 12.49 cellar doors.\n"
     ]
    }
   ],
   "source": [
    "#f-string\n",
    "\n",
    "print(f'I would like to have {num:.2f} {sng}.')"
   ]
  },
  {
   "cell_type": "code",
   "execution_count": 16,
   "metadata": {},
   "outputs": [
    {
     "name": "stdout",
     "output_type": "stream",
     "text": [
      "I would like to have 12.49 cellar doors.\n"
     ]
    }
   ],
   "source": [
    "print('I would like to have {num:.2f} {sng}.'.format(num=num,sng=sng))"
   ]
  },
  {
   "cell_type": "code",
   "execution_count": 23,
   "metadata": {},
   "outputs": [
    {
     "name": "stdout",
     "output_type": "stream",
     "text": [
      "a is the 1st letter.\n",
      "b is the 2nd letter.\n",
      "c is the 3rd letter.\n",
      "d is the 4th letter.\n",
      "e is the 5th letter.\n",
      "f is the 6th letter.\n",
      "g is the 7th letter.\n",
      "h is the 8th letter.\n",
      "i is the 9th letter.\n",
      "j is the 10th letter.\n",
      "k is the 11th letter.\n",
      "l is the 12th letter.\n",
      "m is the 13th letter.\n",
      "n is the 14th letter.\n",
      "o is the 15th letter.\n",
      "p is the 16th letter.\n",
      "q is the 17th letter.\n",
      "r is the 18th letter.\n",
      "s is the 19th letter.\n",
      "t is the 20th letter.\n",
      "u is the 21st letter.\n",
      "v is the 22nd letter.\n",
      "w is the 23rd letter.\n",
      "x is the 24th letter.\n",
      "y is the 25th letter.\n",
      "z is the 26th letter.\n"
     ]
    }
   ],
   "source": [
    "#Exercise\n",
    "import string \n",
    "letters = string.ascii_lowercase\n",
    "\n",
    "for i in range(len(letters)):\n",
    "\n",
    "    if i==0 or i==20:\n",
    "        ordin = 'st' \n",
    "    elif i==1 or i==21:\n",
    "        ordin = 'nd'\n",
    "    elif i==2 or i==22:\n",
    "        ordin = 'rd'\n",
    "    else:\n",
    "        ordin = 'th'\n",
    "\n",
    "    print(f'{letters[i]} is the {i+1}{ordin} letter.')"
   ]
  },
  {
   "cell_type": "code",
   "execution_count": null,
   "metadata": {},
   "outputs": [],
   "source": []
  }
 ],
 "metadata": {
  "kernelspec": {
   "display_name": "base",
   "language": "python",
   "name": "python3"
  },
  "language_info": {
   "codemirror_mode": {
    "name": "ipython",
    "version": 3
   },
   "file_extension": ".py",
   "mimetype": "text/x-python",
   "name": "python",
   "nbconvert_exporter": "python",
   "pygments_lexer": "ipython3",
   "version": "3.11.5"
  }
 },
 "nbformat": 4,
 "nbformat_minor": 2
}
