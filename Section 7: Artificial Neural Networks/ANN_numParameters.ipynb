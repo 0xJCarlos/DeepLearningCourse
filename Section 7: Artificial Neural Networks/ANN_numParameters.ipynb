{
 "cells": [
  {
   "cell_type": "code",
   "execution_count": 1,
   "metadata": {},
   "outputs": [],
   "source": [
    "# import libraries\n",
    "import numpy as np\n",
    "import torch \n",
    "import torch.nn as nn "
   ]
  },
  {
   "cell_type": "code",
   "execution_count": 2,
   "metadata": {},
   "outputs": [
    {
     "name": "stdout",
     "output_type": "stream",
     "text": [
      "Sequential(\n",
      "  (0): Linear(in_features=2, out_features=4, bias=True)\n",
      "  (1): Linear(in_features=4, out_features=3, bias=True)\n",
      ")\n",
      " \n",
      "Sequential(\n",
      "  (0): Linear(in_features=2, out_features=2, bias=True)\n",
      "  (1): Linear(in_features=2, out_features=2, bias=True)\n",
      "  (2): Linear(in_features=2, out_features=3, bias=True)\n",
      ")\n"
     ]
    }
   ],
   "source": [
    "#build two models\n",
    "\n",
    "widenet = nn.Sequential(\n",
    "    nn.Linear(2,4), #hidden\n",
    "    nn.Linear(4,3), #output\n",
    ")\n",
    "\n",
    "deepnet = nn.Sequential(\n",
    "    nn.Linear(2,2), #hidden \n",
    "    nn.Linear(2,2), #hidden\n",
    "    nn.Linear(2,3), #output\n",
    ")\n",
    "\n",
    "print(widenet)\n",
    "print( ' ')\n",
    "print(deepnet)"
   ]
  },
  {
   "cell_type": "markdown",
   "metadata": {},
   "source": [
    "## Peeking inside the network"
   ]
  },
  {
   "cell_type": "code",
   "execution_count": 3,
   "metadata": {},
   "outputs": [
    {
     "name": "stdout",
     "output_type": "stream",
     "text": [
      "('0.weight', Parameter containing:\n",
      "tensor([[-0.0924,  0.0094],\n",
      "        [-0.2300,  0.1675]], requires_grad=True))\n",
      "\n",
      "('0.bias', Parameter containing:\n",
      "tensor([ 0.4284, -0.1653], requires_grad=True))\n",
      "\n",
      "('1.weight', Parameter containing:\n",
      "tensor([[-0.4788,  0.5279],\n",
      "        [ 0.0040, -0.1886]], requires_grad=True))\n",
      "\n",
      "('1.bias', Parameter containing:\n",
      "tensor([-0.2075, -0.3162], requires_grad=True))\n",
      "\n",
      "('2.weight', Parameter containing:\n",
      "tensor([[ 0.1668, -0.6118],\n",
      "        [-0.2182, -0.0079],\n",
      "        [-0.2790, -0.0460]], requires_grad=True))\n",
      "\n",
      "('2.bias', Parameter containing:\n",
      "tensor([0.1164, 0.0744, 0.6388], requires_grad=True))\n",
      "\n"
     ]
    }
   ],
   "source": [
    "#check the parameters\n",
    "for p in deepnet.named_parameters():\n",
    "    print(p)\n",
    "    print('')\n",
    "    "
   ]
  },
  {
   "cell_type": "code",
   "execution_count": 4,
   "metadata": {},
   "outputs": [
    {
     "name": "stdout",
     "output_type": "stream",
     "text": [
      "There are 7 nodes in the wide network.\n",
      "There are 7 nodes in the deep network.\n"
     ]
    }
   ],
   "source": [
    "#Count the number of nodes ( = the number of biases) \n",
    "\n",
    "#named_parameters() is an iterable that returns the tuple (name,numbers)\n",
    "numNodesInWide = 0\n",
    "for p in widenet.named_parameters():\n",
    "    if 'bias' in p[0]:\n",
    "        numNodesInWide += len(p[1])\n",
    "\n",
    "numNodesInDeep = 0\n",
    "for paramName,paramVect in deepnet.named_parameters():\n",
    "    if 'bias' in paramName:\n",
    "        numNodesInDeep += len(paramVect)\n",
    "\n",
    "\n",
    "print('There are %s nodes in the wide network.' %numNodesInWide)\n",
    "print('There are %s nodes in the deep network.' %numNodesInDeep)\n"
   ]
  },
  {
   "cell_type": "code",
   "execution_count": 5,
   "metadata": {},
   "outputs": [
    {
     "name": "stdout",
     "output_type": "stream",
     "text": [
      "Parameter containing:\n",
      "tensor([[-0.5944,  0.2521],\n",
      "        [ 0.6625, -0.1627],\n",
      "        [-0.6965, -0.3900],\n",
      "        [ 0.1128,  0.7063]], requires_grad=True)\n",
      " \n",
      "Parameter containing:\n",
      "tensor([ 0.3137, -0.4176,  0.0797, -0.2931], requires_grad=True)\n",
      " \n",
      "Parameter containing:\n",
      "tensor([[ 0.4402, -0.1461, -0.1163,  0.0403],\n",
      "        [-0.4418, -0.1506,  0.0335,  0.2080],\n",
      "        [-0.3183,  0.0949, -0.1588,  0.3193]], requires_grad=True)\n",
      " \n",
      "Parameter containing:\n",
      "tensor([ 0.4626, -0.4994, -0.1925], requires_grad=True)\n",
      " \n"
     ]
    }
   ],
   "source": [
    "# Just parameters\n",
    "for p in widenet.parameters():\n",
    "    print(p)\n",
    "    print(' ')"
   ]
  },
  {
   "cell_type": "code",
   "execution_count": 6,
   "metadata": {},
   "outputs": [
    {
     "name": "stdout",
     "output_type": "stream",
     "text": [
      "This piece has 8 parameters\n",
      "This piece has 4 parameters\n",
      "This piece has 12 parameters\n",
      "This piece has 3 parameters\n",
      "\n",
      "\n",
      "Total of 27 parameters\n"
     ]
    }
   ],
   "source": [
    "#Count the total number of trainable parameters\n",
    "nparams = 0\n",
    "for p in widenet.parameters():\n",
    "    if p.requires_grad:\n",
    "        print('This piece has %s parameters' %p.numel())\n",
    "        nparams += p.numel()\n",
    "\n",
    "print('\\n\\nTotal of %s parameters' %nparams)"
   ]
  },
  {
   "cell_type": "code",
   "execution_count": 10,
   "metadata": {},
   "outputs": [
    {
     "name": "stdout",
     "output_type": "stream",
     "text": [
      "----------------------------------------------------------------\n",
      "        Layer (type)               Output Shape         Param #\n",
      "================================================================\n",
      "            Linear-1                 [-1, 1, 4]              12\n",
      "            Linear-2                 [-1, 1, 3]              15\n",
      "================================================================\n",
      "Total params: 27\n",
      "Trainable params: 27\n",
      "Non-trainable params: 0\n",
      "----------------------------------------------------------------\n",
      "Input size (MB): 0.00\n",
      "Forward/backward pass size (MB): 0.00\n",
      "Params size (MB): 0.00\n",
      "Estimated Total Size (MB): 0.00\n",
      "----------------------------------------------------------------\n"
     ]
    }
   ],
   "source": [
    "#print model info\n",
    "from torchsummary import summary \n",
    "summary(widenet, (1,2))"
   ]
  },
  {
   "cell_type": "code",
   "execution_count": null,
   "metadata": {},
   "outputs": [],
   "source": []
  }
 ],
 "metadata": {
  "kernelspec": {
   "display_name": "base",
   "language": "python",
   "name": "python3"
  },
  "language_info": {
   "codemirror_mode": {
    "name": "ipython",
    "version": 3
   },
   "file_extension": ".py",
   "mimetype": "text/x-python",
   "name": "python",
   "nbconvert_exporter": "python",
   "pygments_lexer": "ipython3",
   "version": "3.11.5"
  }
 },
 "nbformat": 4,
 "nbformat_minor": 2
}
