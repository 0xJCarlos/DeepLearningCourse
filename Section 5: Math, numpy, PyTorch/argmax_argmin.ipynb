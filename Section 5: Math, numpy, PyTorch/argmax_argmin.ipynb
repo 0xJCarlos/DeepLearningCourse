{
 "cells": [
  {
   "cell_type": "code",
   "execution_count": 1,
   "metadata": {},
   "outputs": [],
   "source": [
    "import numpy as np\n",
    "import torch \n",
    "import torch.nn as nn "
   ]
  },
  {
   "cell_type": "markdown",
   "metadata": {},
   "source": [
    "## Usando Numpy"
   ]
  },
  {
   "cell_type": "code",
   "execution_count": 7,
   "metadata": {},
   "outputs": [
    {
     "name": "stdout",
     "output_type": "stream",
     "text": [
      "Min, max: -3,40\n",
      "Min max indices: 3,1 \n",
      " \n",
      "Min val is -3, max val is 40\n"
     ]
    }
   ],
   "source": [
    "# Crear un vector\n",
    "v = np.array([1, 40, 2, -3])\n",
    "\n",
    "#Encontrar y reportar el valor minimo y maximo\n",
    "minval = np.min(v)\n",
    "maxval = np.max(v)\n",
    "\n",
    "print('Min, max: %g,%g' %(minval,maxval))\n",
    "\n",
    "#ahora con argmin/max\n",
    "\n",
    "minidx = np.argmin(v)\n",
    "maxidx = np.argmax(v)\n",
    "\n",
    "print('Min max indices: %g,%g ' %(minidx, maxidx) ), print(' ')\n",
    "\n",
    "#confirm\n",
    "print(f'Min val is { v[minidx] }, max val is {v[maxidx]}')"
   ]
  },
  {
   "cell_type": "code",
   "execution_count": 11,
   "metadata": {},
   "outputs": [
    {
     "name": "stdout",
     "output_type": "stream",
     "text": [
      "[[ 0  1 10]\n",
      " [20  8  5]]\n",
      " \n",
      "0\n",
      "[0 1 5]\n",
      "[0 5]\n"
     ]
    }
   ],
   "source": [
    "#Repetir con matrices\n",
    "M = np.array([[ 0,1,10],\n",
    "             [20,8,5]\n",
    "             ])\n",
    "\n",
    "print(M), print(' ')\n",
    "\n",
    "#Various minima in the matrix\n",
    "\n",
    "minvals1 = np.min(M) #minimum from ENTIRE matrix\n",
    "minvals2 = np.min(M,axis=0) #min from each column across rows\n",
    "minvals3 = np.min(M,axis=1) #minimum of each row (across columns)\n",
    "\n",
    "#print them out\n",
    "print(minvals1)\n",
    "print(minvals2)\n",
    "print(minvals3)"
   ]
  },
  {
   "cell_type": "markdown",
   "metadata": {},
   "source": [
    "## Using PyTorch"
   ]
  },
  {
   "cell_type": "code",
   "execution_count": 13,
   "metadata": {},
   "outputs": [
    {
     "name": "stdout",
     "output_type": "stream",
     "text": [
      "tensor([[ 0,  1, 10],\n",
      "        [20,  8,  5]])\n",
      " \n",
      "tensor(0)\n",
      " \n",
      "torch.return_types.min(\n",
      "values=tensor([0, 1, 5]),\n",
      "indices=tensor([0, 0, 1]))\n",
      " \n",
      "tensor([0, 1, 5])\n",
      " \n",
      "tensor([0, 0, 1])\n",
      " \n"
     ]
    },
    {
     "data": {
      "text/plain": [
       "(None, None)"
      ]
     },
     "execution_count": 13,
     "metadata": {},
     "output_type": "execute_result"
    }
   ],
   "source": [
    "#Repeat with matrix\n",
    "M = torch.tensor( [[0,1,10], [20,8,5] ])\n",
    "print(M), print(' ')\n",
    "\n",
    "#Various minima in matrix\n",
    "min1 = torch.min(M)\n",
    "min2 = torch.min(M,axis=0)\n",
    "min3 = torch.min(M,axis=1)\n",
    "\n",
    "#printss\n",
    "print(min1), print(' ')\n",
    "print(min2), print(' ')\n",
    "print(min2.values), print(' ')\n",
    "print(min2.indices), print(' ')\n"
   ]
  },
  {
   "cell_type": "code",
   "execution_count": null,
   "metadata": {},
   "outputs": [],
   "source": [
    "."
   ]
  }
 ],
 "metadata": {
  "kernelspec": {
   "display_name": "base",
   "language": "python",
   "name": "python3"
  },
  "language_info": {
   "codemirror_mode": {
    "name": "ipython",
    "version": 3
   },
   "file_extension": ".py",
   "mimetype": "text/x-python",
   "name": "python",
   "nbconvert_exporter": "python",
   "pygments_lexer": "ipython3",
   "version": "3.11.5"
  }
 },
 "nbformat": 4,
 "nbformat_minor": 2
}
