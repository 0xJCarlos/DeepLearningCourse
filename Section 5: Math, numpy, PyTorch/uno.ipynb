{
 "cells": [
  {
   "cell_type": "code",
   "execution_count": 20,
   "metadata": {},
   "outputs": [
    {
     "name": "stderr",
     "output_type": "stream",
     "text": [
      "Matplotlib is building the font cache; this may take a moment.\n"
     ]
    }
   ],
   "source": [
    "import numpy as np \n",
    "import torch\n",
    "import torch.nn as nn \n",
    "import matplotlib.pyplot as plt"
   ]
  },
  {
   "cell_type": "code",
   "execution_count": 3,
   "metadata": {},
   "outputs": [],
   "source": [
    "nv1 = np.array([1,2,3,4])\n",
    "nv2 = np.array([0,1,0,-1])"
   ]
  },
  {
   "cell_type": "code",
   "execution_count": 4,
   "metadata": {},
   "outputs": [
    {
     "name": "stdout",
     "output_type": "stream",
     "text": [
      "-2\n"
     ]
    }
   ],
   "source": [
    "print(np.dot(nv1,nv2))\n",
    "print(np.sum( nv1*nv2))"
   ]
  },
  {
   "cell_type": "code",
   "execution_count": 12,
   "metadata": {},
   "outputs": [],
   "source": [
    "#create random matrices\n",
    "A = np.random.randn(3,4)\n",
    "B = np.random.randn(4,5)\n",
    "C = np.random.randn(3,7)"
   ]
  },
  {
   "cell_type": "code",
   "execution_count": 13,
   "metadata": {},
   "outputs": [
    {
     "name": "stdout",
     "output_type": "stream",
     "text": [
      "[[-0.36  2.68  0.7  -1.96  2.74]\n",
      " [ 1.21 -1.43  1.64  3.71 -0.31]\n",
      " [ 0.4  -2.01 -0.62  1.25 -2.11]]\n",
      " \n"
     ]
    },
    {
     "data": {
      "text/plain": [
       "(None, None)"
      ]
     },
     "execution_count": 13,
     "metadata": {},
     "output_type": "execute_result"
    }
   ],
   "source": [
    "print(np.round( A @ B , 2)), print(' ')"
   ]
  },
  {
   "cell_type": "code",
   "execution_count": 15,
   "metadata": {},
   "outputs": [
    {
     "name": "stdout",
     "output_type": "stream",
     "text": [
      "[[ 0.23 -0.1   0.99  0.33]\n",
      " [ 0.39  0.58  0.95  0.22]\n",
      " [-0.57 -0.16 -3.35 -1.03]\n",
      " [-2.31  6.08 -0.36 -1.21]\n",
      " [-2.49  5.68 -4.77 -2.49]\n",
      " [-1.48  0.77 -8.99 -2.94]\n",
      " [ 1.69 -2.6   1.88  1.08]]\n"
     ]
    }
   ],
   "source": [
    "#print(np.round( A@A ,2)), print(' ')\n",
    "print(np.round( C.T@A, 2)) # El chiste está en transponerlos para que las dimensiones interiores sean acordes. "
   ]
  },
  {
   "cell_type": "code",
   "execution_count": 19,
   "metadata": {},
   "outputs": [
    {
     "name": "stdout",
     "output_type": "stream",
     "text": [
      "tensor([[-1.9500,  1.4700, -1.6000,  4.9100,  5.1800],\n",
      "        [ 2.0800, -1.4900, -1.2000,  1.8200,  2.2600],\n",
      "        [-1.4900, -0.6100,  0.1300, -0.1300,  1.8900]])\n",
      " \n",
      "tensor([[-2.2600, -4.6800, -5.1900, -1.4500, -0.2800,  1.4100, -2.3100],\n",
      "        [-0.6600,  0.9700, -1.8600,  1.7100,  0.2300, -0.7000, -2.0600],\n",
      "        [-0.4400, -0.4600,  0.4100, -0.9000, -1.3300,  2.5700,  0.4300]],\n",
      "       dtype=torch.float64)\n",
      " \n",
      "tensor([[-2.2600, -4.6800, -5.1900, -1.4500, -0.2800,  1.4100, -2.3100],\n",
      "        [-0.6600,  0.9700, -1.8600,  1.7100,  0.2300, -0.7000, -2.0600],\n",
      "        [-0.4400, -0.4600,  0.4100, -0.9000, -1.3300,  2.5700,  0.4300]])\n",
      " )\n"
     ]
    },
    {
     "data": {
      "text/plain": [
       "(None, None)"
      ]
     },
     "execution_count": 19,
     "metadata": {},
     "output_type": "execute_result"
    }
   ],
   "source": [
    "A = torch.randn(3,4)\n",
    "B = torch.randn(4,5)\n",
    "C1 = np.random.randn(4,7)\n",
    "C2 = torch.tensor ( C1, dtype=torch.float)\n",
    "\n",
    "print(np.round( A@B ,2)), print(' ')\n",
    "#print(np.round( A@B.T , 2)), print(' ')\n",
    "print(np.round( A@C1 , 2)), print(' ')\n",
    "print(np.round( A@C2 , 2)),print(' )')"
   ]
  },
  {
   "cell_type": "code",
   "execution_count": 22,
   "metadata": {},
   "outputs": [
    {
     "name": "stdout",
     "output_type": "stream",
     "text": [
      "[0.09003057 0.24472847 0.66524096]\n",
      "1.0\n"
     ]
    }
   ],
   "source": [
    "# Softmax manual en numpy\n",
    "# Lista de numeros\n",
    "z = [1,2,3]\n",
    "\n",
    "#Computar el softmax\n",
    "num = np.exp(z)\n",
    "den = np.sum( np.exp(z) )\n",
    "sigma = num / den \n",
    "\n",
    "print(sigma) \n",
    "print(np.sum(sigma))"
   ]
  },
  {
   "cell_type": "code",
   "execution_count": 27,
   "metadata": {},
   "outputs": [
    {
     "name": "stdout",
     "output_type": "stream",
     "text": [
      "[-2  8  2  3  6 -1 -5 13 11 -2  0 14 12  2  8  5  4 -5  0  1 10  1 -2  6\n",
      "  4]\n"
     ]
    },
    {
     "data": {
      "image/png": "[encoded data removed]",
      "text/plain": [
       "<Figure size 640x480 with 1 Axes>"
      ]
     },
     "metadata": {},
     "output_type": "display_data"
    }
   ],
   "source": [
    "#Ahora con Enteros random\n",
    "z = np.random.randint(-5, high=15, size=25)\n",
    "print(z)\n",
    "\n",
    "#computar softmax\n",
    "num = np.exp(z)\n",
    "den = np.sum( num )\n",
    "sigma = num / den\n",
    "\n",
    "#Comparar\n",
    "plt.plot(z,sigma, 'ko')\n",
    "plt.xlabel('Original number (z)')\n",
    "plt.ylabel('Softmaxified $\\sigma$')\n",
    "plt.yscale('log')\n",
    "plt.title('$\\sum\\sigma$ = %g' %np.sum(sigma))\n",
    "plt.show()"
   ]
  },
  {
   "cell_type": "code",
   "execution_count": 28,
   "metadata": {},
   "outputs": [
    {
     "name": "stdout",
     "output_type": "stream",
     "text": [
      "tensor([7.1351e-08, 1.5716e-03, 3.8957e-06, 1.0589e-05, 2.1270e-04, 1.9395e-07,\n",
      "        3.5524e-09, 2.3325e-01, 3.1567e-02, 7.1351e-08, 5.2722e-07, 6.3404e-01,\n",
      "        8.5808e-02, 3.8957e-06, 1.5716e-03, 7.8246e-05, 2.8785e-05, 3.5524e-09,\n",
      "        5.2722e-07, 1.4331e-06, 1.1613e-02, 1.4331e-06, 7.1351e-08, 2.1270e-04,\n",
      "        2.8785e-05])\n"
     ]
    }
   ],
   "source": [
    "#Haciendo el softmax con PyTorch\n",
    "#Crear una instancia de la clase activadora de Softmax\n",
    "softFun = nn.Softmax(dim=0)\n",
    "\n",
    "#aplicar datos a la funcion\n",
    "sigmaT = softFun( torch.Tensor(z))\n",
    "\n",
    "print(sigmaT)"
   ]
  },
  {
   "cell_type": "code",
   "execution_count": 29,
   "metadata": {},
   "outputs": [
    {
     "data": {
      "image/png": "[encoded data removed]",
      "text/plain": [
       "<Figure size 640x480 with 1 Axes>"
      ]
     },
     "metadata": {},
     "output_type": "display_data"
    }
   ],
   "source": [
    "#Show\n",
    "plt.plot(sigma, sigmaT, 'ko')\n",
    "plt.xlabel('\"Manual\" softmax')\n",
    "plt.ylabel('Pytorch nn.Softmax')\n",
    "plt.title(f'The two methods correlate at r={np.corrcoef(sigma,sigmaT)[0,1]}')\n",
    "plt.show()"
   ]
  },
  {
   "cell_type": "code",
   "execution_count": null,
   "metadata": {},
   "outputs": [],
   "source": []
  }
 ],
 "metadata": {
  "kernelspec": {
   "display_name": "base",
   "language": "python",
   "name": "python3"
  },
  "language_info": {
   "codemirror_mode": {
    "name": "ipython",
    "version": 3
   },
   "file_extension": ".py",
   "mimetype": "text/x-python",
   "name": "python",
   "nbconvert_exporter": "python",
   "pygments_lexer": "ipython3",
   "version": "3.11.5"
  }
 },
 "nbformat": 4,
 "nbformat_minor": 2
}
