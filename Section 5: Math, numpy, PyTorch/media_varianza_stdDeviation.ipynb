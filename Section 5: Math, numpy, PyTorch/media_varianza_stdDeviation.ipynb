{
 "cells": [
  {
   "cell_type": "code",
   "execution_count": 1,
   "metadata": {},
   "outputs": [],
   "source": [
    "#Imports\n",
    "import numpy as np"
   ]
  },
  {
   "cell_type": "code",
   "execution_count": 2,
   "metadata": {},
   "outputs": [
    {
     "name": "stdout",
     "output_type": "stream",
     "text": [
      "3.142857142857143\n",
      "3.142857142857143\n"
     ]
    }
   ],
   "source": [
    "#Crear lista de numeros para computar la media y varianza\n",
    "x = [1,2,4,6,5,4,0]\n",
    "n = len(x)\n",
    "\n",
    "#Computar la media\n",
    "mean1 = np.mean(x)\n",
    "mean2 = np.sum(x) / n \n",
    "\n",
    "#Imprimirlos\n",
    "print(mean1)\n",
    "print(mean2)"
   ]
  },
  {
   "cell_type": "code",
   "execution_count": 3,
   "metadata": {},
   "outputs": [
    {
     "name": "stdout",
     "output_type": "stream",
     "text": [
      "4.122448979591836\n",
      "4.809523809523809\n"
     ]
    }
   ],
   "source": [
    "#Varianza\n",
    "var1 = np.var(x)\n",
    "var2 = (1/(n-1)) * np.sum( (x-mean1)**2)\n",
    "\n",
    "print(var1)\n",
    "print(var2)"
   ]
  },
  {
   "cell_type": "code",
   "execution_count": 4,
   "metadata": {},
   "outputs": [
    {
     "name": "stdout",
     "output_type": "stream",
     "text": [
      "4.122448979591836\n",
      "4.809523809523809\n",
      "4.809523809523809\n"
     ]
    }
   ],
   "source": [
    "#Las varianzas son diferentes por los grados de libertad, se añaden como segundo argumento en np.var(), el default es 0.\n",
    "var3 = np.var(x, ddof=1)\n",
    "print(var1)\n",
    "print(var2)\n",
    "print(var3)"
   ]
  },
  {
   "cell_type": "code",
   "execution_count": 7,
   "metadata": {},
   "outputs": [
    {
     "name": "stdout",
     "output_type": "stream",
     "text": [
      "33.4184199639\n",
      "33.41875415144151\n"
     ]
    }
   ],
   "source": [
    "#La diferencia se hace menor si el N es más grande.\n",
    "N = 100000\n",
    "x = np.random.randint(0, high=20, size=N)\n",
    "\n",
    "var0 = np.var(x,ddof=0) #default\n",
    "var1 = np.var(x,ddof=1) #Unbiased\n",
    "\n",
    "print(var0)\n",
    "print(var1)"
   ]
  },
  {
   "cell_type": "code",
   "execution_count": null,
   "metadata": {},
   "outputs": [],
   "source": []
  }
 ],
 "metadata": {
  "kernelspec": {
   "display_name": "base",
   "language": "python",
   "name": "python3"
  },
  "language_info": {
   "codemirror_mode": {
    "name": "ipython",
    "version": 3
   },
   "file_extension": ".py",
   "mimetype": "text/x-python",
   "name": "python",
   "nbconvert_exporter": "python",
   "pygments_lexer": "ipython3",
   "version": "3.11.5"
  }
 },
 "nbformat": 4,
 "nbformat_minor": 2
}
